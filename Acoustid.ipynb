{
 "metadata": {
  "name": "",
  "signature": "sha256:80ea29463a2e1f6113c364e331e55a8474aefb8f11c7ecbfaf649013429e3ba6"
 },
 "nbformat": 3,
 "nbformat_minor": 0,
 "worksheets": [
  {
   "cells": [
    {
     "cell_type": "code",
     "collapsed": false,
     "input": [
      "import acoustid\n",
      "from os.path import join"
     ],
     "language": "python",
     "metadata": {},
     "outputs": [],
     "prompt_number": 4
    },
    {
     "cell_type": "code",
     "collapsed": false,
     "input": [
      "path='/Volumes/bnpraid/MajorTuneage/zz-top/unknown/'\n",
      "filename=join(path,'futures-so-bright-i-gotta-wear-shades-uuid-f9d37405-07c0-417f-a66b-c58b7cf716ec.mp3')\n",
      "f='/Volumes/bnpraid/MajorTuneage/wipeout/more-dirty-dancing/the-surfaris-uuid-06db5446-3ce9-4b3b-8d46-6bd7a990bfcd.mp3'"
     ],
     "language": "python",
     "metadata": {},
     "outputs": [],
     "prompt_number": 5
    },
    {
     "cell_type": "code",
     "collapsed": false,
     "input": [
      "apikey='FlCEyOMf'"
     ],
     "language": "python",
     "metadata": {},
     "outputs": [],
     "prompt_number": 24
    },
    {
     "cell_type": "code",
     "collapsed": false,
     "input": [
      "for score, recording_id, title, artist in acoustid.match(apikey, f):\n",
      "    print(\"Score: {} ID:{} Title:{} Artist:{}\".format(score,recording_id, title, artist))"
     ],
     "language": "python",
     "metadata": {},
     "outputs": [
      {
       "output_type": "stream",
       "stream": "stdout",
       "text": [
        "Score: 0.935061 ID:4ef9b087-f7b0-488f-a2ff-0eb1397b718d Title:Wipe Out Artist:The Surfaris\n",
        "Score: 0.935061 ID:c784a492-8467-4307-a2d8-1875f62536d5 Title:Wipe Out Artist:The Surfaris\n",
        "Score: 0.901437 ID:083149e4-bc34-41fa-9cc4-b0465cb8827f Title:Wipe Out Artist:The Surfaris\n",
        "Score: 0.901437 ID:4ef9b087-f7b0-488f-a2ff-0eb1397b718d Title:Wipe Out Artist:The Surfaris\n",
        "Score: 0.901437 ID:75f9a919-5c55-45e5-9670-d790024a1c21 Title:Wipe Out Artist:The Safaris\n",
        "Score: 0.901437 ID:7cd3f13f-8e8c-40b8-ae48-1a57e5b3f8fe Title:Wipe Out Artist:Sugar Beats\n",
        "Score: 0.901437 ID:7ea906d7-4df1-4958-a259-d7e4c5ecce1a Title:Wipe Out Artist:The Surfaris\n",
        "Score: 0.901437 ID:bda2cc53-0dcc-4fbb-ade0-65fff6721609 Title:Wipe Out Artist:The Surfaris\n",
        "Score: 0.901437 ID:db49e399-0225-49fc-bbdf-ba45984d5eda Title:Wipeout Artist:The Surfaris\n",
        "Score: 0.901437 ID:dc1da980-d6f8-47da-8c24-9d252f3e1185 Title:Wipe Out Artist:The Beach Boys\n",
        "Score: 0.901437 ID:e3dcf874-5de5-42e3-a1ea-bcba8fd047d6 Title:Wipeout Artist:Fat Boys\n",
        "Score: 0.901437 ID:f25e02cc-142a-491c-b3e7-d468b80baf14 Title:Wipe Out Artist:The Surfaris\n",
        "Score: 0.857595 ID:4ef9b087-f7b0-488f-a2ff-0eb1397b718d Title:Wipe Out Artist:The Surfaris\n",
        "Score: 0.857595 ID:584ef01d-f861-40b0-ac15-463285e38f46 Title:Wipe Out Artist:The Surfaris\n",
        "Score: 0.728639 ID:c784a492-8467-4307-a2d8-1875f62536d5 Title:Wipe Out Artist:The Surfaris\n",
        "Score: 0.622231 ID:4ef9b087-f7b0-488f-a2ff-0eb1397b718d Title:Wipe Out Artist:The Surfaris\n",
        "Score: 0.622231 ID:7ea906d7-4df1-4958-a259-d7e4c5ecce1a Title:Wipe Out Artist:The Surfaris\n",
        "Score: 0.622231 ID:c784a492-8467-4307-a2d8-1875f62536d5 Title:Wipe Out Artist:The Surfaris\n",
        "Score: 0.610496 ID:4ef9b087-f7b0-488f-a2ff-0eb1397b718d Title:Wipe Out Artist:The Surfaris\n",
        "Score: 0.610496 ID:7cd3f13f-8e8c-40b8-ae48-1a57e5b3f8fe Title:Wipe Out Artist:Sugar Beats\n",
        "Score: 0.610496 ID:c784a492-8467-4307-a2d8-1875f62536d5 Title:Wipe Out Artist:The Surfaris\n",
        "Score: 0.607068 ID:4ef9b087-f7b0-488f-a2ff-0eb1397b718d Title:Wipe Out Artist:The Surfaris\n"
       ]
      }
     ],
     "prompt_number": 47
    },
    {
     "cell_type": "code",
     "collapsed": false,
     "input": [
      "fp = acoustid.fingerprint_file(f)\n",
      "data = acoustid.lookup(apikey, fp[1], 120)\n",
      "data"
     ],
     "language": "python",
     "metadata": {},
     "outputs": [
      {
       "metadata": {},
       "output_type": "pyout",
       "prompt_number": 46,
       "text": [
        "{u'results': [], u'status': u'ok'}"
       ]
      }
     ],
     "prompt_number": 46
    },
    {
     "cell_type": "code",
     "collapsed": false,
     "input": [
      "for score, recording_id, title, artist in acoustid.parse_lookup_result(data):\n",
      "    print(\"Score: {} ID:{} Title:{} Artist:{}\".format(score,recording_id, title, artist))"
     ],
     "language": "python",
     "metadata": {},
     "outputs": [],
     "prompt_number": 42
    },
    {
     "cell_type": "code",
     "collapsed": false,
     "input": [],
     "language": "python",
     "metadata": {},
     "outputs": []
    }
   ],
   "metadata": {}
  }
 ]
}